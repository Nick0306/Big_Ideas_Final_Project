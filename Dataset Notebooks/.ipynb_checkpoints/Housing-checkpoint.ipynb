{
 "cells": [
  {
   "cell_type": "code",
   "execution_count": 3,
   "metadata": {},
   "outputs": [
    {
     "data": {
      "text/plain": [
       "0    51.5%\n",
       "1    74.9%\n",
       "2    80.0%\n",
       "3    86.6%\n",
       "4    91.2%\n",
       "5    95.4%\n",
       "6    87.3%\n",
       "7    89.3%\n",
       "8    73.5%\n",
       "9    89.0%\n",
       "Name: % Occupied Units (2010), dtype: object"
      ]
     },
     "execution_count": 3,
     "metadata": {},
     "output_type": "execute_result"
    }
   ],
   "source": [
    "import pandas as pd\n",
    "\n",
    "%matplotlib inline\n",
    "\n",
    "data = pd.read_csv(\"https://data.wprdc.org/dataset/40188e1c-6d2e-4f20-9391-607bd3054949/resource/9890875b-c1d1-4e64-8fc9-a4a8dc433745/download/housing.csv\")\n",
    "\n",
    "#data.head(5)\n",
    "\n",
    "\n",
    "# % Occupied Units\n",
    "# Median Home Value\n",
    "# Est. Avg. Years of Residence\n",
    "\n",
    "data[\"% Occupied Units (2010)\"].head(10)\n"
   ]
  },
  {
   "cell_type": "code",
   "execution_count": null,
   "metadata": {},
   "outputs": [],
   "source": []
  }
 ],
 "metadata": {
  "kernelspec": {
   "display_name": "Python 3",
   "language": "python",
   "name": "python3"
  },
  "language_info": {
   "codemirror_mode": {
    "name": "ipython",
    "version": 3
   },
   "file_extension": ".py",
   "mimetype": "text/x-python",
   "name": "python",
   "nbconvert_exporter": "python",
   "pygments_lexer": "ipython3",
   "version": "3.8.3"
  }
 },
 "nbformat": 4,
 "nbformat_minor": 4
}
